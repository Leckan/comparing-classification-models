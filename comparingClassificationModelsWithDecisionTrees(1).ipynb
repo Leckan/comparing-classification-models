{
 "cells": [
  {
   "cell_type": "markdown",
   "metadata": {},
   "source": [
    "# Comparing Classification Models\n",
    "\n",
    "We want to compare various classification models for the \"default\" dataset. We'll look at logistic regression, LDA, QDA, $k$-nearest neighbors, and all the different trees we tried."
   ]
  },
  {
   "cell_type": "code",
   "execution_count": 1,
   "metadata": {},
   "outputs": [],
   "source": [
    "# import packages\n",
    "import pandas as pd\n",
    "import numpy as np\n",
    "import matplotlib.pyplot as plt\n",
    "import seaborn as sns\n",
    "\n",
    "# We'll look at logistic regression, LDA, QDA, and KNN\n",
    "from sklearn.linear_model import LogisticRegression\n",
    "from sklearn.discriminant_analysis import LinearDiscriminantAnalysis as LDA\n",
    "from sklearn.discriminant_analysis import QuadraticDiscriminantAnalysis\n",
    "from sklearn.neighbors import KNeighborsClassifier\n",
    "\n",
    "# We'll standardize and split data into training/testing\n",
    "from sklearn.preprocessing import StandardScaler\n",
    "from sklearn.model_selection import train_test_split\n",
    "\n",
    "\n",
    "# Need to measure \"goodness\"\n",
    "from sklearn.metrics import accuracy_score, recall_score, average_precision_score, precision_score, f1_score\n",
    "from sklearn.metrics import confusion_matrix, classification_report\n",
    "from sklearn.metrics import plot_confusion_matrix\n",
    "from sklearn.metrics import roc_auc_score, plot_roc_curve, plot_precision_recall_curve"
   ]
  },
  {
   "cell_type": "code",
   "execution_count": 2,
   "metadata": {},
   "outputs": [
    {
     "data": {
      "text/plain": [
       "(10000, 4)"
      ]
     },
     "execution_count": 2,
     "metadata": {},
     "output_type": "execute_result"
    }
   ],
   "source": [
    "# Read in the data from the .csv file\n",
    "default = pd.read_csv(\"default.csv\")\n",
    "default.shape"
   ]
  },
  {
   "cell_type": "code",
   "execution_count": 3,
   "metadata": {},
   "outputs": [
    {
     "name": "stdout",
     "output_type": "stream",
     "text": [
      "<class 'pandas.core.frame.DataFrame'>\n",
      "RangeIndex: 10000 entries, 0 to 9999\n",
      "Data columns (total 4 columns):\n",
      " #   Column   Non-Null Count  Dtype  \n",
      "---  ------   --------------  -----  \n",
      " 0   default  10000 non-null  object \n",
      " 1   student  10000 non-null  object \n",
      " 2   balance  10000 non-null  float64\n",
      " 3   income   10000 non-null  float64\n",
      "dtypes: float64(2), object(2)\n",
      "memory usage: 312.6+ KB\n"
     ]
    }
   ],
   "source": [
    "# Take a look at info()\n",
    "default.info()"
   ]
  },
  {
   "cell_type": "code",
   "execution_count": 4,
   "metadata": {},
   "outputs": [
    {
     "data": {
      "text/html": [
       "<div>\n",
       "<style scoped>\n",
       "    .dataframe tbody tr th:only-of-type {\n",
       "        vertical-align: middle;\n",
       "    }\n",
       "\n",
       "    .dataframe tbody tr th {\n",
       "        vertical-align: top;\n",
       "    }\n",
       "\n",
       "    .dataframe thead th {\n",
       "        text-align: right;\n",
       "    }\n",
       "</style>\n",
       "<table border=\"1\" class=\"dataframe\">\n",
       "  <thead>\n",
       "    <tr style=\"text-align: right;\">\n",
       "      <th></th>\n",
       "      <th>balance</th>\n",
       "      <th>income</th>\n",
       "      <th>default_Yes</th>\n",
       "      <th>student_Yes</th>\n",
       "    </tr>\n",
       "  </thead>\n",
       "  <tbody>\n",
       "    <tr>\n",
       "      <th>7677</th>\n",
       "      <td>65.332984</td>\n",
       "      <td>31992.242221</td>\n",
       "      <td>0</td>\n",
       "      <td>0</td>\n",
       "    </tr>\n",
       "    <tr>\n",
       "      <th>1911</th>\n",
       "      <td>605.365694</td>\n",
       "      <td>39002.229643</td>\n",
       "      <td>0</td>\n",
       "      <td>0</td>\n",
       "    </tr>\n",
       "    <tr>\n",
       "      <th>2988</th>\n",
       "      <td>634.217926</td>\n",
       "      <td>38672.749647</td>\n",
       "      <td>0</td>\n",
       "      <td>0</td>\n",
       "    </tr>\n",
       "    <tr>\n",
       "      <th>716</th>\n",
       "      <td>1060.335860</td>\n",
       "      <td>56607.253973</td>\n",
       "      <td>0</td>\n",
       "      <td>0</td>\n",
       "    </tr>\n",
       "    <tr>\n",
       "      <th>8490</th>\n",
       "      <td>663.610199</td>\n",
       "      <td>48089.520547</td>\n",
       "      <td>0</td>\n",
       "      <td>0</td>\n",
       "    </tr>\n",
       "    <tr>\n",
       "      <th>3330</th>\n",
       "      <td>1335.131324</td>\n",
       "      <td>17044.365397</td>\n",
       "      <td>0</td>\n",
       "      <td>1</td>\n",
       "    </tr>\n",
       "    <tr>\n",
       "      <th>7784</th>\n",
       "      <td>2040.590171</td>\n",
       "      <td>50930.910786</td>\n",
       "      <td>1</td>\n",
       "      <td>0</td>\n",
       "    </tr>\n",
       "    <tr>\n",
       "      <th>4797</th>\n",
       "      <td>570.024684</td>\n",
       "      <td>40987.062331</td>\n",
       "      <td>0</td>\n",
       "      <td>0</td>\n",
       "    </tr>\n",
       "    <tr>\n",
       "      <th>9822</th>\n",
       "      <td>1609.136059</td>\n",
       "      <td>16373.945359</td>\n",
       "      <td>0</td>\n",
       "      <td>1</td>\n",
       "    </tr>\n",
       "    <tr>\n",
       "      <th>9989</th>\n",
       "      <td>999.281112</td>\n",
       "      <td>20013.350644</td>\n",
       "      <td>0</td>\n",
       "      <td>1</td>\n",
       "    </tr>\n",
       "    <tr>\n",
       "      <th>5734</th>\n",
       "      <td>865.697004</td>\n",
       "      <td>33541.046380</td>\n",
       "      <td>0</td>\n",
       "      <td>0</td>\n",
       "    </tr>\n",
       "  </tbody>\n",
       "</table>\n",
       "</div>"
      ],
      "text/plain": [
       "          balance        income  default_Yes  student_Yes\n",
       "7677    65.332984  31992.242221            0            0\n",
       "1911   605.365694  39002.229643            0            0\n",
       "2988   634.217926  38672.749647            0            0\n",
       "716   1060.335860  56607.253973            0            0\n",
       "8490   663.610199  48089.520547            0            0\n",
       "3330  1335.131324  17044.365397            0            1\n",
       "7784  2040.590171  50930.910786            1            0\n",
       "4797   570.024684  40987.062331            0            0\n",
       "9822  1609.136059  16373.945359            0            1\n",
       "9989   999.281112  20013.350644            0            1\n",
       "5734   865.697004  33541.046380            0            0"
      ]
     },
     "execution_count": 4,
     "metadata": {},
     "output_type": "execute_result"
    }
   ],
   "source": [
    "# Create dummies for default and student\n",
    "defaultCoded = pd.get_dummies(default, drop_first=True)\n",
    "defaultCoded.sample(11)"
   ]
  },
  {
   "cell_type": "markdown",
   "metadata": {},
   "source": [
    "## Stratification\n",
    "In many cases, particularly when you an **imbalanced** dataset, you want your training and test sets to preserve the same proportions of each class (i.e., the thing you are trying to predict) as observed in the original dataset. In our case, we would like to have the training and test set each have 3.33% defaulters. We can split our data using **stratification**."
   ]
  },
  {
   "cell_type": "code",
   "execution_count": 5,
   "metadata": {},
   "outputs": [
    {
     "data": {
      "text/html": [
       "<div>\n",
       "<style scoped>\n",
       "    .dataframe tbody tr th:only-of-type {\n",
       "        vertical-align: middle;\n",
       "    }\n",
       "\n",
       "    .dataframe tbody tr th {\n",
       "        vertical-align: top;\n",
       "    }\n",
       "\n",
       "    .dataframe thead th {\n",
       "        text-align: right;\n",
       "    }\n",
       "</style>\n",
       "<table border=\"1\" class=\"dataframe\">\n",
       "  <thead>\n",
       "    <tr style=\"text-align: right;\">\n",
       "      <th></th>\n",
       "      <th>balance</th>\n",
       "      <th>student_Yes</th>\n",
       "    </tr>\n",
       "  </thead>\n",
       "  <tbody>\n",
       "    <tr>\n",
       "      <th>0</th>\n",
       "      <td>729.526495</td>\n",
       "      <td>0</td>\n",
       "    </tr>\n",
       "    <tr>\n",
       "      <th>1</th>\n",
       "      <td>817.180407</td>\n",
       "      <td>1</td>\n",
       "    </tr>\n",
       "    <tr>\n",
       "      <th>2</th>\n",
       "      <td>1073.549164</td>\n",
       "      <td>0</td>\n",
       "    </tr>\n",
       "    <tr>\n",
       "      <th>3</th>\n",
       "      <td>529.250605</td>\n",
       "      <td>0</td>\n",
       "    </tr>\n",
       "    <tr>\n",
       "      <th>4</th>\n",
       "      <td>785.655883</td>\n",
       "      <td>0</td>\n",
       "    </tr>\n",
       "  </tbody>\n",
       "</table>\n",
       "</div>"
      ],
      "text/plain": [
       "       balance  student_Yes\n",
       "0   729.526495            0\n",
       "1   817.180407            1\n",
       "2  1073.549164            0\n",
       "3   529.250605            0\n",
       "4   785.655883            0"
      ]
     },
     "execution_count": 5,
     "metadata": {},
     "output_type": "execute_result"
    }
   ],
   "source": [
    "# Make the X and y variables\n",
    "# From last time, we saw that income was not statistically significant\n",
    "#     so let's also drop that column\n",
    "y = defaultCoded.default_Yes\n",
    "X = defaultCoded.drop(columns=[\"default_Yes\", \"income\"])\n",
    "X.head()"
   ]
  },
  {
   "cell_type": "code",
   "execution_count": 6,
   "metadata": {},
   "outputs": [],
   "source": [
    "# Split the data\n",
    "X_train, X_test, y_train, y_test = train_test_split(X, y, test_size=0.3,\n",
    "                                                    stratify=y,\n",
    "                                                    random_state=42)"
   ]
  },
  {
   "cell_type": "code",
   "execution_count": 7,
   "metadata": {},
   "outputs": [
    {
     "name": "stdout",
     "output_type": "stream",
     "text": [
      "Training default rate is 3.33%\n",
      "Testing default rate is  3.33%\n"
     ]
    }
   ],
   "source": [
    "# What is the default rates in both training and test??\n",
    "print(f\"Training default rate is {y_train.mean():.2%}\")\n",
    "print(f\"Testing default rate is  {y_test.mean():.2%}\")"
   ]
  },
  {
   "cell_type": "markdown",
   "metadata": {},
   "source": [
    "# Function to Look at Different Models\n",
    "Can we write a function that will take in different models (classifiers) and compute the different metrics so we can compare the different classifiers easily?"
   ]
  },
  {
   "cell_type": "code",
   "execution_count": 9,
   "metadata": {},
   "outputs": [],
   "source": [
    "# define our function\n",
    "def modelMetrics(classifier, name, X_test, y_test):\n",
    "    \"\"\"\n",
    "    We want to see how the different models react to the same \n",
    "    dataset. We should capture multiple metrics for each model.\n",
    "    \n",
    "    classifier: the classifier we are capturing metrics for\n",
    "    \n",
    "    name: a name to identify the classifier\n",
    "    \n",
    "    X_test: the X array for the test set\n",
    "    \n",
    "    y_test: the output variable (actual) for test set\n",
    "    \"\"\"\n",
    "    retVal = {}\n",
    "    \n",
    "    metrics = {}\n",
    "    predictions = classifier.predict(X_test)\n",
    "    metrics[\"a_score\"] = accuracy_score(y_test, predictions)\n",
    "    metrics[\"r_score\"] = recall_score(y_test, predictions)\n",
    "    metrics[\"p_score\"] = precision_score(y_test, predictions)\n",
    "    metrics[\"f1_score\"] = f1_score(y_test, predictions)\n",
    "    \n",
    "    tn, fp, fn, tp = confusion_matrix(y_test, predictions).ravel()\n",
    "    totDefaulters = y_test.sum()\n",
    "    totNonDefaulters = len(y_test) - totDefaulters\n",
    "    \n",
    "    # Error rate non-defaulters = false positives / total non-defaulters\n",
    "    metrics[\"errorNondefaulters\"] = fp/totNonDefaulters\n",
    "    # Accuracy for non-defaulters = true negatives / total non-defaulters\n",
    "    metrics[\"accNondefaulters\"] = tn/totNonDefaulters\n",
    "    # Error rate for defaulters = false negatives / total defaulters\n",
    "    metrics[\"errorDefaulters\"] = fn/totDefaulters\n",
    "    # Accuracy for defaulters = true positives / total defaulters\n",
    "    metrics[\"accDefaulters\"] = tp/totDefaulters\n",
    "    # ROC AUC score\n",
    "    metrics[\"roc_auc_score\"] = roc_auc_score(y_test,\n",
    "                                             classifier.predict_proba(X_test)[:,1])\n",
    "    # Average precision score\n",
    "    metrics[\"avg_p_score\"] = average_precision_score(y_test,\n",
    "                                                     classifier.predict_proba(X_test)[:,1])\n",
    "    \n",
    "    retVal[name] = metrics\n",
    "    \n",
    "    return retVal"
   ]
  },
  {
   "cell_type": "markdown",
   "metadata": {},
   "source": [
    "## Logistic Regression\n",
    "\n",
    "We'll use `StandardScaler` to standardize the $X$ variable. "
   ]
  },
  {
   "cell_type": "code",
   "execution_count": 10,
   "metadata": {},
   "outputs": [],
   "source": [
    "# Create the StandardScaler and fit\n",
    "scaler = StandardScaler().fit(X_train)\n",
    "# Scale training and test Xs\n",
    "X_train_s = scaler.transform(X_train)\n",
    "X_test_s = scaler.transform(X_test)"
   ]
  },
  {
   "cell_type": "code",
   "execution_count": 15,
   "metadata": {},
   "outputs": [
    {
     "data": {
      "text/plain": [
       "LogisticRegression()"
      ]
     },
     "execution_count": 15,
     "metadata": {},
     "output_type": "execute_result"
    }
   ],
   "source": [
    "# First, create the LogisticRegression instance\n",
    "logReg = LogisticRegression()\n",
    "# Now fit the logistic regression model with the scaled X and unscaled y\n",
    "logReg.fit(X_train_s, y_train)"
   ]
  },
  {
   "cell_type": "code",
   "execution_count": 16,
   "metadata": {},
   "outputs": [
    {
     "data": {
      "text/html": [
       "<div>\n",
       "<style scoped>\n",
       "    .dataframe tbody tr th:only-of-type {\n",
       "        vertical-align: middle;\n",
       "    }\n",
       "\n",
       "    .dataframe tbody tr th {\n",
       "        vertical-align: top;\n",
       "    }\n",
       "\n",
       "    .dataframe thead th {\n",
       "        text-align: right;\n",
       "    }\n",
       "</style>\n",
       "<table border=\"1\" class=\"dataframe\">\n",
       "  <thead>\n",
       "    <tr style=\"text-align: right;\">\n",
       "      <th></th>\n",
       "      <th>LogisticRegression</th>\n",
       "    </tr>\n",
       "  </thead>\n",
       "  <tbody>\n",
       "    <tr>\n",
       "      <th>a_score</th>\n",
       "      <td>0.972333</td>\n",
       "    </tr>\n",
       "    <tr>\n",
       "      <th>accDefaulters</th>\n",
       "      <td>0.330000</td>\n",
       "    </tr>\n",
       "    <tr>\n",
       "      <th>accNondefaulters</th>\n",
       "      <td>0.994483</td>\n",
       "    </tr>\n",
       "    <tr>\n",
       "      <th>avg_p_score</th>\n",
       "      <td>0.503314</td>\n",
       "    </tr>\n",
       "    <tr>\n",
       "      <th>errorDefaulters</th>\n",
       "      <td>0.670000</td>\n",
       "    </tr>\n",
       "    <tr>\n",
       "      <th>errorNondefaulters</th>\n",
       "      <td>0.005517</td>\n",
       "    </tr>\n",
       "    <tr>\n",
       "      <th>f1_score</th>\n",
       "      <td>0.442953</td>\n",
       "    </tr>\n",
       "    <tr>\n",
       "      <th>p_score</th>\n",
       "      <td>0.673469</td>\n",
       "    </tr>\n",
       "    <tr>\n",
       "      <th>r_score</th>\n",
       "      <td>0.330000</td>\n",
       "    </tr>\n",
       "    <tr>\n",
       "      <th>roc_auc_score</th>\n",
       "      <td>0.951041</td>\n",
       "    </tr>\n",
       "  </tbody>\n",
       "</table>\n",
       "</div>"
      ],
      "text/plain": [
       "                    LogisticRegression\n",
       "a_score                       0.972333\n",
       "accDefaulters                 0.330000\n",
       "accNondefaulters              0.994483\n",
       "avg_p_score                   0.503314\n",
       "errorDefaulters               0.670000\n",
       "errorNondefaulters            0.005517\n",
       "f1_score                      0.442953\n",
       "p_score                       0.673469\n",
       "r_score                       0.330000\n",
       "roc_auc_score                 0.951041"
      ]
     },
     "execution_count": 16,
     "metadata": {},
     "output_type": "execute_result"
    }
   ],
   "source": [
    "# Call our function to get metrics - let's also put it in DataFrame\n",
    "dfLogReg = pd.DataFrame(modelMetrics(logReg,\"LogisticRegression\",X_test_s, y_test))\n",
    "dfLogReg"
   ]
  },
  {
   "cell_type": "markdown",
   "metadata": {},
   "source": [
    "# Linear Discriminant Analysis\n",
    "Let's now try LDA. We already imported the appropriate packages for LDA."
   ]
  },
  {
   "cell_type": "code",
   "execution_count": 26,
   "metadata": {},
   "outputs": [
    {
     "data": {
      "text/plain": [
       "LinearDiscriminantAnalysis()"
      ]
     },
     "execution_count": 26,
     "metadata": {},
     "output_type": "execute_result"
    }
   ],
   "source": [
    "# Create an LDA instance\n",
    "lda = LDA()\n",
    "# Fit the LDA model with X and y training set created previously\n",
    "lda.fit(X_train_s, y_train)"
   ]
  },
  {
   "cell_type": "code",
   "execution_count": 28,
   "metadata": {},
   "outputs": [
    {
     "data": {
      "text/html": [
       "<div>\n",
       "<style scoped>\n",
       "    .dataframe tbody tr th:only-of-type {\n",
       "        vertical-align: middle;\n",
       "    }\n",
       "\n",
       "    .dataframe tbody tr th {\n",
       "        vertical-align: top;\n",
       "    }\n",
       "\n",
       "    .dataframe thead th {\n",
       "        text-align: right;\n",
       "    }\n",
       "</style>\n",
       "<table border=\"1\" class=\"dataframe\">\n",
       "  <thead>\n",
       "    <tr style=\"text-align: right;\">\n",
       "      <th></th>\n",
       "      <th>LDA</th>\n",
       "    </tr>\n",
       "  </thead>\n",
       "  <tbody>\n",
       "    <tr>\n",
       "      <th>a_score</th>\n",
       "      <td>0.971333</td>\n",
       "    </tr>\n",
       "    <tr>\n",
       "      <th>accDefaulters</th>\n",
       "      <td>0.250000</td>\n",
       "    </tr>\n",
       "    <tr>\n",
       "      <th>accNondefaulters</th>\n",
       "      <td>0.996207</td>\n",
       "    </tr>\n",
       "    <tr>\n",
       "      <th>avg_p_score</th>\n",
       "      <td>0.502443</td>\n",
       "    </tr>\n",
       "    <tr>\n",
       "      <th>errorDefaulters</th>\n",
       "      <td>0.750000</td>\n",
       "    </tr>\n",
       "    <tr>\n",
       "      <th>errorNondefaulters</th>\n",
       "      <td>0.003793</td>\n",
       "    </tr>\n",
       "    <tr>\n",
       "      <th>f1_score</th>\n",
       "      <td>0.367647</td>\n",
       "    </tr>\n",
       "    <tr>\n",
       "      <th>p_score</th>\n",
       "      <td>0.694444</td>\n",
       "    </tr>\n",
       "    <tr>\n",
       "      <th>r_score</th>\n",
       "      <td>0.250000</td>\n",
       "    </tr>\n",
       "    <tr>\n",
       "      <th>roc_auc_score</th>\n",
       "      <td>0.950731</td>\n",
       "    </tr>\n",
       "  </tbody>\n",
       "</table>\n",
       "</div>"
      ],
      "text/plain": [
       "                         LDA\n",
       "a_score             0.971333\n",
       "accDefaulters       0.250000\n",
       "accNondefaulters    0.996207\n",
       "avg_p_score         0.502443\n",
       "errorDefaulters     0.750000\n",
       "errorNondefaulters  0.003793\n",
       "f1_score            0.367647\n",
       "p_score             0.694444\n",
       "r_score             0.250000\n",
       "roc_auc_score       0.950731"
      ]
     },
     "execution_count": 28,
     "metadata": {},
     "output_type": "execute_result"
    }
   ],
   "source": [
    "# Call our function to get metrics - let's also put it in DataFrame\n",
    "dfLDA = pd.DataFrame(modelMetrics(lda,\"LDA\",X_test_s, y_test))\n",
    "dfLDA"
   ]
  },
  {
   "cell_type": "markdown",
   "metadata": {},
   "source": [
    "# Quadratic Discriminant Analysis\n",
    "We can also try QDA (already imported package)"
   ]
  },
  {
   "cell_type": "code",
   "execution_count": 32,
   "metadata": {},
   "outputs": [
    {
     "data": {
      "text/plain": [
       "QuadraticDiscriminantAnalysis()"
      ]
     },
     "execution_count": 32,
     "metadata": {},
     "output_type": "execute_result"
    }
   ],
   "source": [
    "# Create a QDA instance\n",
    "qda = QuadraticDiscriminantAnalysis()\n",
    "# Fit the qda with X and y\n",
    "qda.fit(X_train_s, y_train)"
   ]
  },
  {
   "cell_type": "code",
   "execution_count": 58,
   "metadata": {},
   "outputs": [
    {
     "data": {
      "text/html": [
       "<div>\n",
       "<style scoped>\n",
       "    .dataframe tbody tr th:only-of-type {\n",
       "        vertical-align: middle;\n",
       "    }\n",
       "\n",
       "    .dataframe tbody tr th {\n",
       "        vertical-align: top;\n",
       "    }\n",
       "\n",
       "    .dataframe thead th {\n",
       "        text-align: right;\n",
       "    }\n",
       "</style>\n",
       "<table border=\"1\" class=\"dataframe\">\n",
       "  <thead>\n",
       "    <tr style=\"text-align: right;\">\n",
       "      <th></th>\n",
       "      <th>QuadraticDiscriminantAnalysis</th>\n",
       "    </tr>\n",
       "  </thead>\n",
       "  <tbody>\n",
       "    <tr>\n",
       "      <th>a_score</th>\n",
       "      <td>0.972667</td>\n",
       "    </tr>\n",
       "    <tr>\n",
       "      <th>accDefaulters</th>\n",
       "      <td>0.300000</td>\n",
       "    </tr>\n",
       "    <tr>\n",
       "      <th>accNondefaulters</th>\n",
       "      <td>0.995862</td>\n",
       "    </tr>\n",
       "    <tr>\n",
       "      <th>avg_p_score</th>\n",
       "      <td>0.496253</td>\n",
       "    </tr>\n",
       "    <tr>\n",
       "      <th>errorDefaulters</th>\n",
       "      <td>0.700000</td>\n",
       "    </tr>\n",
       "    <tr>\n",
       "      <th>errorNondefaulters</th>\n",
       "      <td>0.004138</td>\n",
       "    </tr>\n",
       "    <tr>\n",
       "      <th>f1_score</th>\n",
       "      <td>0.422535</td>\n",
       "    </tr>\n",
       "    <tr>\n",
       "      <th>p_score</th>\n",
       "      <td>0.714286</td>\n",
       "    </tr>\n",
       "    <tr>\n",
       "      <th>r_score</th>\n",
       "      <td>0.300000</td>\n",
       "    </tr>\n",
       "    <tr>\n",
       "      <th>roc_auc_score</th>\n",
       "      <td>0.950645</td>\n",
       "    </tr>\n",
       "  </tbody>\n",
       "</table>\n",
       "</div>"
      ],
      "text/plain": [
       "                    QuadraticDiscriminantAnalysis\n",
       "a_score                                  0.972667\n",
       "accDefaulters                            0.300000\n",
       "accNondefaulters                         0.995862\n",
       "avg_p_score                              0.496253\n",
       "errorDefaulters                          0.700000\n",
       "errorNondefaulters                       0.004138\n",
       "f1_score                                 0.422535\n",
       "p_score                                  0.714286\n",
       "r_score                                  0.300000\n",
       "roc_auc_score                            0.950645"
      ]
     },
     "execution_count": 58,
     "metadata": {},
     "output_type": "execute_result"
    }
   ],
   "source": [
    "# Call our function to get metrics - let's also put it in DataFrame\n",
    "dfQDA = pd.DataFrame(modelMetrics(qda, \"QuadraticDiscriminantAnalysis\",X_test_s, y_test))\n",
    "dfQDA"
   ]
  },
  {
   "cell_type": "markdown",
   "metadata": {},
   "source": [
    "# KNN\n",
    "Might as well try $k$-nearest neighbors. You pick $k$, so it will be your fault not mine."
   ]
  },
  {
   "cell_type": "code",
   "execution_count": 19,
   "metadata": {},
   "outputs": [
    {
     "data": {
      "text/plain": [
       "KNeighborsClassifier(n_neighbors=9)"
      ]
     },
     "execution_count": 19,
     "metadata": {},
     "output_type": "execute_result"
    }
   ],
   "source": [
    "# Let's use k=9\n",
    "knn = KNeighborsClassifier(n_neighbors=9)\n",
    "# fit the model\n",
    "knn.fit(X_train_s, y_train)"
   ]
  },
  {
   "cell_type": "code",
   "execution_count": 22,
   "metadata": {},
   "outputs": [
    {
     "data": {
      "text/html": [
       "<div>\n",
       "<style scoped>\n",
       "    .dataframe tbody tr th:only-of-type {\n",
       "        vertical-align: middle;\n",
       "    }\n",
       "\n",
       "    .dataframe tbody tr th {\n",
       "        vertical-align: top;\n",
       "    }\n",
       "\n",
       "    .dataframe thead th {\n",
       "        text-align: right;\n",
       "    }\n",
       "</style>\n",
       "<table border=\"1\" class=\"dataframe\">\n",
       "  <thead>\n",
       "    <tr style=\"text-align: right;\">\n",
       "      <th></th>\n",
       "      <th>KNN</th>\n",
       "    </tr>\n",
       "  </thead>\n",
       "  <tbody>\n",
       "    <tr>\n",
       "      <th>a_score</th>\n",
       "      <td>0.970667</td>\n",
       "    </tr>\n",
       "    <tr>\n",
       "      <th>accDefaulters</th>\n",
       "      <td>0.380000</td>\n",
       "    </tr>\n",
       "    <tr>\n",
       "      <th>accNondefaulters</th>\n",
       "      <td>0.991034</td>\n",
       "    </tr>\n",
       "    <tr>\n",
       "      <th>avg_p_score</th>\n",
       "      <td>0.361938</td>\n",
       "    </tr>\n",
       "    <tr>\n",
       "      <th>errorDefaulters</th>\n",
       "      <td>0.620000</td>\n",
       "    </tr>\n",
       "    <tr>\n",
       "      <th>errorNondefaulters</th>\n",
       "      <td>0.008966</td>\n",
       "    </tr>\n",
       "    <tr>\n",
       "      <th>f1_score</th>\n",
       "      <td>0.463415</td>\n",
       "    </tr>\n",
       "    <tr>\n",
       "      <th>p_score</th>\n",
       "      <td>0.593750</td>\n",
       "    </tr>\n",
       "    <tr>\n",
       "      <th>r_score</th>\n",
       "      <td>0.380000</td>\n",
       "    </tr>\n",
       "    <tr>\n",
       "      <th>roc_auc_score</th>\n",
       "      <td>0.858034</td>\n",
       "    </tr>\n",
       "  </tbody>\n",
       "</table>\n",
       "</div>"
      ],
      "text/plain": [
       "                         KNN\n",
       "a_score             0.970667\n",
       "accDefaulters       0.380000\n",
       "accNondefaulters    0.991034\n",
       "avg_p_score         0.361938\n",
       "errorDefaulters     0.620000\n",
       "errorNondefaulters  0.008966\n",
       "f1_score            0.463415\n",
       "p_score             0.593750\n",
       "r_score             0.380000\n",
       "roc_auc_score       0.858034"
      ]
     },
     "execution_count": 22,
     "metadata": {},
     "output_type": "execute_result"
    }
   ],
   "source": [
    "# Call our function to get metrics - let's also put it in DataFrame\n",
    "dfKNN = pd.DataFrame(modelMetrics(knn, \"KNN\",X_test_s, y_test))\n",
    "dfKNN"
   ]
  },
  {
   "cell_type": "markdown",
   "metadata": {},
   "source": [
    "## DecisionTreeClassifier\n",
    "Need to import the class."
   ]
  },
  {
   "cell_type": "code",
   "execution_count": 23,
   "metadata": {},
   "outputs": [
    {
     "data": {
      "text/plain": [
       "DecisionTreeClassifier()"
      ]
     },
     "execution_count": 23,
     "metadata": {},
     "output_type": "execute_result"
    }
   ],
   "source": [
    "# Import\n",
    "from sklearn.tree import DecisionTreeClassifier\n",
    "# Create the tree\n",
    "dt = DecisionTreeClassifier()\n",
    "# fit the tree on the scaled X training data\n",
    "dt.fit(X_train_s, y_train)"
   ]
  },
  {
   "cell_type": "code",
   "execution_count": 24,
   "metadata": {},
   "outputs": [
    {
     "data": {
      "text/html": [
       "<div>\n",
       "<style scoped>\n",
       "    .dataframe tbody tr th:only-of-type {\n",
       "        vertical-align: middle;\n",
       "    }\n",
       "\n",
       "    .dataframe tbody tr th {\n",
       "        vertical-align: top;\n",
       "    }\n",
       "\n",
       "    .dataframe thead th {\n",
       "        text-align: right;\n",
       "    }\n",
       "</style>\n",
       "<table border=\"1\" class=\"dataframe\">\n",
       "  <thead>\n",
       "    <tr style=\"text-align: right;\">\n",
       "      <th></th>\n",
       "      <th>DecisionTreeClassifier</th>\n",
       "    </tr>\n",
       "  </thead>\n",
       "  <tbody>\n",
       "    <tr>\n",
       "      <th>a_score</th>\n",
       "      <td>0.954667</td>\n",
       "    </tr>\n",
       "    <tr>\n",
       "      <th>accDefaulters</th>\n",
       "      <td>0.350000</td>\n",
       "    </tr>\n",
       "    <tr>\n",
       "      <th>accNondefaulters</th>\n",
       "      <td>0.975517</td>\n",
       "    </tr>\n",
       "    <tr>\n",
       "      <th>avg_p_score</th>\n",
       "      <td>0.137233</td>\n",
       "    </tr>\n",
       "    <tr>\n",
       "      <th>errorDefaulters</th>\n",
       "      <td>0.650000</td>\n",
       "    </tr>\n",
       "    <tr>\n",
       "      <th>errorNondefaulters</th>\n",
       "      <td>0.024483</td>\n",
       "    </tr>\n",
       "    <tr>\n",
       "      <th>f1_score</th>\n",
       "      <td>0.339806</td>\n",
       "    </tr>\n",
       "    <tr>\n",
       "      <th>p_score</th>\n",
       "      <td>0.330189</td>\n",
       "    </tr>\n",
       "    <tr>\n",
       "      <th>r_score</th>\n",
       "      <td>0.350000</td>\n",
       "    </tr>\n",
       "    <tr>\n",
       "      <th>roc_auc_score</th>\n",
       "      <td>0.662759</td>\n",
       "    </tr>\n",
       "  </tbody>\n",
       "</table>\n",
       "</div>"
      ],
      "text/plain": [
       "                    DecisionTreeClassifier\n",
       "a_score                           0.954667\n",
       "accDefaulters                     0.350000\n",
       "accNondefaulters                  0.975517\n",
       "avg_p_score                       0.137233\n",
       "errorDefaulters                   0.650000\n",
       "errorNondefaulters                0.024483\n",
       "f1_score                          0.339806\n",
       "p_score                           0.330189\n",
       "r_score                           0.350000\n",
       "roc_auc_score                     0.662759"
      ]
     },
     "execution_count": 24,
     "metadata": {},
     "output_type": "execute_result"
    }
   ],
   "source": [
    "# Call our function to get metrics - let's also put it in DataFrame\n",
    "dfDTS = pd.DataFrame(modelMetrics(dt, \"DecisionTreeClassifier\",X_test_s, y_test))\n",
    "dfDTS"
   ]
  },
  {
   "cell_type": "code",
   "execution_count": 30,
   "metadata": {},
   "outputs": [
    {
     "data": {
      "text/plain": [
       "DecisionTreeClassifier()"
      ]
     },
     "execution_count": 30,
     "metadata": {},
     "output_type": "execute_result"
    }
   ],
   "source": [
    "# Creat a decision tree on UNSCALED X\n",
    "dt2 = DecisionTreeClassifier()\n",
    "dt2.fit(X_train, y_train)"
   ]
  },
  {
   "cell_type": "code",
   "execution_count": 31,
   "metadata": {},
   "outputs": [
    {
     "data": {
      "text/html": [
       "<div>\n",
       "<style scoped>\n",
       "    .dataframe tbody tr th:only-of-type {\n",
       "        vertical-align: middle;\n",
       "    }\n",
       "\n",
       "    .dataframe tbody tr th {\n",
       "        vertical-align: top;\n",
       "    }\n",
       "\n",
       "    .dataframe thead th {\n",
       "        text-align: right;\n",
       "    }\n",
       "</style>\n",
       "<table border=\"1\" class=\"dataframe\">\n",
       "  <thead>\n",
       "    <tr style=\"text-align: right;\">\n",
       "      <th></th>\n",
       "      <th>DT-Unscaled</th>\n",
       "    </tr>\n",
       "  </thead>\n",
       "  <tbody>\n",
       "    <tr>\n",
       "      <th>a_score</th>\n",
       "      <td>0.954667</td>\n",
       "    </tr>\n",
       "    <tr>\n",
       "      <th>accDefaulters</th>\n",
       "      <td>0.350000</td>\n",
       "    </tr>\n",
       "    <tr>\n",
       "      <th>accNondefaulters</th>\n",
       "      <td>0.975517</td>\n",
       "    </tr>\n",
       "    <tr>\n",
       "      <th>avg_p_score</th>\n",
       "      <td>0.137233</td>\n",
       "    </tr>\n",
       "    <tr>\n",
       "      <th>errorDefaulters</th>\n",
       "      <td>0.650000</td>\n",
       "    </tr>\n",
       "    <tr>\n",
       "      <th>errorNondefaulters</th>\n",
       "      <td>0.024483</td>\n",
       "    </tr>\n",
       "    <tr>\n",
       "      <th>f1_score</th>\n",
       "      <td>0.339806</td>\n",
       "    </tr>\n",
       "    <tr>\n",
       "      <th>p_score</th>\n",
       "      <td>0.330189</td>\n",
       "    </tr>\n",
       "    <tr>\n",
       "      <th>r_score</th>\n",
       "      <td>0.350000</td>\n",
       "    </tr>\n",
       "    <tr>\n",
       "      <th>roc_auc_score</th>\n",
       "      <td>0.662759</td>\n",
       "    </tr>\n",
       "  </tbody>\n",
       "</table>\n",
       "</div>"
      ],
      "text/plain": [
       "                    DT-Unscaled\n",
       "a_score                0.954667\n",
       "accDefaulters          0.350000\n",
       "accNondefaulters       0.975517\n",
       "avg_p_score            0.137233\n",
       "errorDefaulters        0.650000\n",
       "errorNondefaulters     0.024483\n",
       "f1_score               0.339806\n",
       "p_score                0.330189\n",
       "r_score                0.350000\n",
       "roc_auc_score          0.662759"
      ]
     },
     "execution_count": 31,
     "metadata": {},
     "output_type": "execute_result"
    }
   ],
   "source": [
    "# Call our function to get metrics - let's also put it in DataFrame\n",
    "dfDTUS = pd.DataFrame(modelMetrics(dt2, \"DT-Unscaled\",X_test, y_test))\n",
    "dfDTUS"
   ]
  },
  {
   "cell_type": "code",
   "execution_count": 34,
   "metadata": {},
   "outputs": [
    {
     "data": {
      "text/plain": [
       "DecisionTreeClassifier(max_depth=6, random_state=42)"
      ]
     },
     "execution_count": 34,
     "metadata": {},
     "output_type": "execute_result"
    }
   ],
   "source": [
    "# Try a different max_depth\n",
    "dt3 = DecisionTreeClassifier(max_depth =6, random_state=42)\n",
    "dt3.fit(X_train, y_train)"
   ]
  },
  {
   "cell_type": "code",
   "execution_count": 35,
   "metadata": {},
   "outputs": [
    {
     "data": {
      "text/html": [
       "<div>\n",
       "<style scoped>\n",
       "    .dataframe tbody tr th:only-of-type {\n",
       "        vertical-align: middle;\n",
       "    }\n",
       "\n",
       "    .dataframe tbody tr th {\n",
       "        vertical-align: top;\n",
       "    }\n",
       "\n",
       "    .dataframe thead th {\n",
       "        text-align: right;\n",
       "    }\n",
       "</style>\n",
       "<table border=\"1\" class=\"dataframe\">\n",
       "  <thead>\n",
       "    <tr style=\"text-align: right;\">\n",
       "      <th></th>\n",
       "      <th>DT-Depth_6</th>\n",
       "    </tr>\n",
       "  </thead>\n",
       "  <tbody>\n",
       "    <tr>\n",
       "      <th>a_score</th>\n",
       "      <td>0.968000</td>\n",
       "    </tr>\n",
       "    <tr>\n",
       "      <th>accDefaulters</th>\n",
       "      <td>0.310000</td>\n",
       "    </tr>\n",
       "    <tr>\n",
       "      <th>accNondefaulters</th>\n",
       "      <td>0.990690</td>\n",
       "    </tr>\n",
       "    <tr>\n",
       "      <th>avg_p_score</th>\n",
       "      <td>0.381994</td>\n",
       "    </tr>\n",
       "    <tr>\n",
       "      <th>errorDefaulters</th>\n",
       "      <td>0.690000</td>\n",
       "    </tr>\n",
       "    <tr>\n",
       "      <th>errorNondefaulters</th>\n",
       "      <td>0.009310</td>\n",
       "    </tr>\n",
       "    <tr>\n",
       "      <th>f1_score</th>\n",
       "      <td>0.392405</td>\n",
       "    </tr>\n",
       "    <tr>\n",
       "      <th>p_score</th>\n",
       "      <td>0.534483</td>\n",
       "    </tr>\n",
       "    <tr>\n",
       "      <th>r_score</th>\n",
       "      <td>0.310000</td>\n",
       "    </tr>\n",
       "    <tr>\n",
       "      <th>roc_auc_score</th>\n",
       "      <td>0.876579</td>\n",
       "    </tr>\n",
       "  </tbody>\n",
       "</table>\n",
       "</div>"
      ],
      "text/plain": [
       "                    DT-Depth_6\n",
       "a_score               0.968000\n",
       "accDefaulters         0.310000\n",
       "accNondefaulters      0.990690\n",
       "avg_p_score           0.381994\n",
       "errorDefaulters       0.690000\n",
       "errorNondefaulters    0.009310\n",
       "f1_score              0.392405\n",
       "p_score               0.534483\n",
       "r_score               0.310000\n",
       "roc_auc_score         0.876579"
      ]
     },
     "execution_count": 35,
     "metadata": {},
     "output_type": "execute_result"
    }
   ],
   "source": [
    "# Call our function to get metrics - let's also put it in DataFrame\n",
    "dfDT6 = pd.DataFrame(modelMetrics(dt3, \"DT-Depth_6\",X_test, y_test))\n",
    "dfDT6"
   ]
  },
  {
   "cell_type": "markdown",
   "metadata": {},
   "source": [
    "## BaggingClassifier\n",
    "Need to import."
   ]
  },
  {
   "cell_type": "code",
   "execution_count": 36,
   "metadata": {},
   "outputs": [],
   "source": [
    "from sklearn.ensemble import BaggingClassifier"
   ]
  },
  {
   "cell_type": "code",
   "execution_count": 37,
   "metadata": {},
   "outputs": [
    {
     "data": {
      "text/plain": [
       "BaggingClassifier()"
      ]
     },
     "execution_count": 37,
     "metadata": {},
     "output_type": "execute_result"
    }
   ],
   "source": [
    "# Create a bag\n",
    "bag = BaggingClassifier()\n",
    "# Fit it\n",
    "bag.fit(X_train, y_train)"
   ]
  },
  {
   "cell_type": "code",
   "execution_count": 38,
   "metadata": {},
   "outputs": [
    {
     "data": {
      "text/html": [
       "<div>\n",
       "<style scoped>\n",
       "    .dataframe tbody tr th:only-of-type {\n",
       "        vertical-align: middle;\n",
       "    }\n",
       "\n",
       "    .dataframe tbody tr th {\n",
       "        vertical-align: top;\n",
       "    }\n",
       "\n",
       "    .dataframe thead th {\n",
       "        text-align: right;\n",
       "    }\n",
       "</style>\n",
       "<table border=\"1\" class=\"dataframe\">\n",
       "  <thead>\n",
       "    <tr style=\"text-align: right;\">\n",
       "      <th></th>\n",
       "      <th>Bagging</th>\n",
       "    </tr>\n",
       "  </thead>\n",
       "  <tbody>\n",
       "    <tr>\n",
       "      <th>a_score</th>\n",
       "      <td>0.956667</td>\n",
       "    </tr>\n",
       "    <tr>\n",
       "      <th>accDefaulters</th>\n",
       "      <td>0.330000</td>\n",
       "    </tr>\n",
       "    <tr>\n",
       "      <th>accNondefaulters</th>\n",
       "      <td>0.978276</td>\n",
       "    </tr>\n",
       "    <tr>\n",
       "      <th>avg_p_score</th>\n",
       "      <td>0.284543</td>\n",
       "    </tr>\n",
       "    <tr>\n",
       "      <th>errorDefaulters</th>\n",
       "      <td>0.670000</td>\n",
       "    </tr>\n",
       "    <tr>\n",
       "      <th>errorNondefaulters</th>\n",
       "      <td>0.021724</td>\n",
       "    </tr>\n",
       "    <tr>\n",
       "      <th>f1_score</th>\n",
       "      <td>0.336735</td>\n",
       "    </tr>\n",
       "    <tr>\n",
       "      <th>p_score</th>\n",
       "      <td>0.343750</td>\n",
       "    </tr>\n",
       "    <tr>\n",
       "      <th>r_score</th>\n",
       "      <td>0.330000</td>\n",
       "    </tr>\n",
       "    <tr>\n",
       "      <th>roc_auc_score</th>\n",
       "      <td>0.789898</td>\n",
       "    </tr>\n",
       "  </tbody>\n",
       "</table>\n",
       "</div>"
      ],
      "text/plain": [
       "                     Bagging\n",
       "a_score             0.956667\n",
       "accDefaulters       0.330000\n",
       "accNondefaulters    0.978276\n",
       "avg_p_score         0.284543\n",
       "errorDefaulters     0.670000\n",
       "errorNondefaulters  0.021724\n",
       "f1_score            0.336735\n",
       "p_score             0.343750\n",
       "r_score             0.330000\n",
       "roc_auc_score       0.789898"
      ]
     },
     "execution_count": 38,
     "metadata": {},
     "output_type": "execute_result"
    }
   ],
   "source": [
    "# Call our function to get metrics - let's also put it in DataFrame\n",
    "dfBag = pd.DataFrame(modelMetrics(bag, \"Bagging\",X_test, y_test))\n",
    "dfBag"
   ]
  },
  {
   "cell_type": "markdown",
   "metadata": {},
   "source": [
    "## RandomForestClassifier\n",
    "Need to import."
   ]
  },
  {
   "cell_type": "code",
   "execution_count": 39,
   "metadata": {},
   "outputs": [],
   "source": [
    "from sklearn.ensemble import RandomForestClassifier"
   ]
  },
  {
   "cell_type": "code",
   "execution_count": 40,
   "metadata": {},
   "outputs": [
    {
     "data": {
      "text/plain": [
       "RandomForestClassifier()"
      ]
     },
     "execution_count": 40,
     "metadata": {},
     "output_type": "execute_result"
    }
   ],
   "source": [
    "# Create random forest\n",
    "rf = RandomForestClassifier()\n",
    "# fit it\n",
    "rf.fit(X_train, y_train)"
   ]
  },
  {
   "cell_type": "code",
   "execution_count": 60,
   "metadata": {},
   "outputs": [
    {
     "data": {
      "text/html": [
       "<div>\n",
       "<style scoped>\n",
       "    .dataframe tbody tr th:only-of-type {\n",
       "        vertical-align: middle;\n",
       "    }\n",
       "\n",
       "    .dataframe tbody tr th {\n",
       "        vertical-align: top;\n",
       "    }\n",
       "\n",
       "    .dataframe thead th {\n",
       "        text-align: right;\n",
       "    }\n",
       "</style>\n",
       "<table border=\"1\" class=\"dataframe\">\n",
       "  <thead>\n",
       "    <tr style=\"text-align: right;\">\n",
       "      <th></th>\n",
       "      <th>RandomForest</th>\n",
       "    </tr>\n",
       "  </thead>\n",
       "  <tbody>\n",
       "    <tr>\n",
       "      <th>a_score</th>\n",
       "      <td>0.954000</td>\n",
       "    </tr>\n",
       "    <tr>\n",
       "      <th>accDefaulters</th>\n",
       "      <td>0.360000</td>\n",
       "    </tr>\n",
       "    <tr>\n",
       "      <th>accNondefaulters</th>\n",
       "      <td>0.974483</td>\n",
       "    </tr>\n",
       "    <tr>\n",
       "      <th>avg_p_score</th>\n",
       "      <td>0.317787</td>\n",
       "    </tr>\n",
       "    <tr>\n",
       "      <th>errorDefaulters</th>\n",
       "      <td>0.640000</td>\n",
       "    </tr>\n",
       "    <tr>\n",
       "      <th>errorNondefaulters</th>\n",
       "      <td>0.025517</td>\n",
       "    </tr>\n",
       "    <tr>\n",
       "      <th>f1_score</th>\n",
       "      <td>0.342857</td>\n",
       "    </tr>\n",
       "    <tr>\n",
       "      <th>p_score</th>\n",
       "      <td>0.327273</td>\n",
       "    </tr>\n",
       "    <tr>\n",
       "      <th>r_score</th>\n",
       "      <td>0.360000</td>\n",
       "    </tr>\n",
       "    <tr>\n",
       "      <th>roc_auc_score</th>\n",
       "      <td>0.820909</td>\n",
       "    </tr>\n",
       "  </tbody>\n",
       "</table>\n",
       "</div>"
      ],
      "text/plain": [
       "                    RandomForest\n",
       "a_score                 0.954000\n",
       "accDefaulters           0.360000\n",
       "accNondefaulters        0.974483\n",
       "avg_p_score             0.317787\n",
       "errorDefaulters         0.640000\n",
       "errorNondefaulters      0.025517\n",
       "f1_score                0.342857\n",
       "p_score                 0.327273\n",
       "r_score                 0.360000\n",
       "roc_auc_score           0.820909"
      ]
     },
     "execution_count": 60,
     "metadata": {},
     "output_type": "execute_result"
    }
   ],
   "source": [
    "# Call our function to get metrics - let's also put it in DataFrame\n",
    "dfRf = pd.DataFrame(modelMetrics(rf, \"RandomForest\",X_test, y_test))\n",
    "dfRf"
   ]
  },
  {
   "cell_type": "markdown",
   "metadata": {},
   "source": [
    "## Extremely Randomized Trees\n",
    "Need to import."
   ]
  },
  {
   "cell_type": "code",
   "execution_count": 42,
   "metadata": {},
   "outputs": [],
   "source": [
    "from sklearn.ensemble import ExtraTreesClassifier"
   ]
  },
  {
   "cell_type": "code",
   "execution_count": 43,
   "metadata": {},
   "outputs": [
    {
     "data": {
      "text/plain": [
       "ExtraTreesClassifier()"
      ]
     },
     "execution_count": 43,
     "metadata": {},
     "output_type": "execute_result"
    }
   ],
   "source": [
    "# Create it\n",
    "xtc = ExtraTreesClassifier()\n",
    "# Fit it\n",
    "xtc.fit(X_train, y_train)"
   ]
  },
  {
   "cell_type": "code",
   "execution_count": 44,
   "metadata": {},
   "outputs": [
    {
     "data": {
      "text/html": [
       "<div>\n",
       "<style scoped>\n",
       "    .dataframe tbody tr th:only-of-type {\n",
       "        vertical-align: middle;\n",
       "    }\n",
       "\n",
       "    .dataframe tbody tr th {\n",
       "        vertical-align: top;\n",
       "    }\n",
       "\n",
       "    .dataframe thead th {\n",
       "        text-align: right;\n",
       "    }\n",
       "</style>\n",
       "<table border=\"1\" class=\"dataframe\">\n",
       "  <thead>\n",
       "    <tr style=\"text-align: right;\">\n",
       "      <th></th>\n",
       "      <th>Extra Trees</th>\n",
       "    </tr>\n",
       "  </thead>\n",
       "  <tbody>\n",
       "    <tr>\n",
       "      <th>a_score</th>\n",
       "      <td>0.954667</td>\n",
       "    </tr>\n",
       "    <tr>\n",
       "      <th>accDefaulters</th>\n",
       "      <td>0.380000</td>\n",
       "    </tr>\n",
       "    <tr>\n",
       "      <th>accNondefaulters</th>\n",
       "      <td>0.974483</td>\n",
       "    </tr>\n",
       "    <tr>\n",
       "      <th>avg_p_score</th>\n",
       "      <td>0.239061</td>\n",
       "    </tr>\n",
       "    <tr>\n",
       "      <th>errorDefaulters</th>\n",
       "      <td>0.620000</td>\n",
       "    </tr>\n",
       "    <tr>\n",
       "      <th>errorNondefaulters</th>\n",
       "      <td>0.025517</td>\n",
       "    </tr>\n",
       "    <tr>\n",
       "      <th>f1_score</th>\n",
       "      <td>0.358491</td>\n",
       "    </tr>\n",
       "    <tr>\n",
       "      <th>p_score</th>\n",
       "      <td>0.339286</td>\n",
       "    </tr>\n",
       "    <tr>\n",
       "      <th>r_score</th>\n",
       "      <td>0.380000</td>\n",
       "    </tr>\n",
       "    <tr>\n",
       "      <th>roc_auc_score</th>\n",
       "      <td>0.747143</td>\n",
       "    </tr>\n",
       "  </tbody>\n",
       "</table>\n",
       "</div>"
      ],
      "text/plain": [
       "                    Extra Trees\n",
       "a_score                0.954667\n",
       "accDefaulters          0.380000\n",
       "accNondefaulters       0.974483\n",
       "avg_p_score            0.239061\n",
       "errorDefaulters        0.620000\n",
       "errorNondefaulters     0.025517\n",
       "f1_score               0.358491\n",
       "p_score                0.339286\n",
       "r_score                0.380000\n",
       "roc_auc_score          0.747143"
      ]
     },
     "execution_count": 44,
     "metadata": {},
     "output_type": "execute_result"
    }
   ],
   "source": [
    "# Call our function to get metrics - let's also put it in DataFrame\n",
    "dfXTC = pd.DataFrame(modelMetrics(xtc, \"Extra Trees\",X_test, y_test))\n",
    "dfXTC"
   ]
  },
  {
   "cell_type": "markdown",
   "metadata": {},
   "source": [
    "## AdaBoost\n",
    "Need to import."
   ]
  },
  {
   "cell_type": "code",
   "execution_count": 45,
   "metadata": {},
   "outputs": [],
   "source": [
    "from sklearn.ensemble import AdaBoostClassifier"
   ]
  },
  {
   "cell_type": "code",
   "execution_count": 46,
   "metadata": {},
   "outputs": [
    {
     "data": {
      "text/plain": [
       "AdaBoostClassifier()"
      ]
     },
     "execution_count": 46,
     "metadata": {},
     "output_type": "execute_result"
    }
   ],
   "source": [
    "# Create it\n",
    "ada = AdaBoostClassifier()\n",
    "# fit it\n",
    "ada.fit(X_train, y_train)"
   ]
  },
  {
   "cell_type": "code",
   "execution_count": 47,
   "metadata": {},
   "outputs": [
    {
     "data": {
      "text/html": [
       "<div>\n",
       "<style scoped>\n",
       "    .dataframe tbody tr th:only-of-type {\n",
       "        vertical-align: middle;\n",
       "    }\n",
       "\n",
       "    .dataframe tbody tr th {\n",
       "        vertical-align: top;\n",
       "    }\n",
       "\n",
       "    .dataframe thead th {\n",
       "        text-align: right;\n",
       "    }\n",
       "</style>\n",
       "<table border=\"1\" class=\"dataframe\">\n",
       "  <thead>\n",
       "    <tr style=\"text-align: right;\">\n",
       "      <th></th>\n",
       "      <th>ADA</th>\n",
       "    </tr>\n",
       "  </thead>\n",
       "  <tbody>\n",
       "    <tr>\n",
       "      <th>a_score</th>\n",
       "      <td>0.970333</td>\n",
       "    </tr>\n",
       "    <tr>\n",
       "      <th>accDefaulters</th>\n",
       "      <td>0.400000</td>\n",
       "    </tr>\n",
       "    <tr>\n",
       "      <th>accNondefaulters</th>\n",
       "      <td>0.990000</td>\n",
       "    </tr>\n",
       "    <tr>\n",
       "      <th>avg_p_score</th>\n",
       "      <td>0.438557</td>\n",
       "    </tr>\n",
       "    <tr>\n",
       "      <th>errorDefaulters</th>\n",
       "      <td>0.600000</td>\n",
       "    </tr>\n",
       "    <tr>\n",
       "      <th>errorNondefaulters</th>\n",
       "      <td>0.010000</td>\n",
       "    </tr>\n",
       "    <tr>\n",
       "      <th>f1_score</th>\n",
       "      <td>0.473373</td>\n",
       "    </tr>\n",
       "    <tr>\n",
       "      <th>p_score</th>\n",
       "      <td>0.579710</td>\n",
       "    </tr>\n",
       "    <tr>\n",
       "      <th>r_score</th>\n",
       "      <td>0.400000</td>\n",
       "    </tr>\n",
       "    <tr>\n",
       "      <th>roc_auc_score</th>\n",
       "      <td>0.951383</td>\n",
       "    </tr>\n",
       "  </tbody>\n",
       "</table>\n",
       "</div>"
      ],
      "text/plain": [
       "                         ADA\n",
       "a_score             0.970333\n",
       "accDefaulters       0.400000\n",
       "accNondefaulters    0.990000\n",
       "avg_p_score         0.438557\n",
       "errorDefaulters     0.600000\n",
       "errorNondefaulters  0.010000\n",
       "f1_score            0.473373\n",
       "p_score             0.579710\n",
       "r_score             0.400000\n",
       "roc_auc_score       0.951383"
      ]
     },
     "execution_count": 47,
     "metadata": {},
     "output_type": "execute_result"
    }
   ],
   "source": [
    "# Call our function to get metrics - let's also put it in DataFrame\n",
    "dfAda = pd.DataFrame(modelMetrics(ada, \"ADA\",X_test, y_test))\n",
    "dfAda"
   ]
  },
  {
   "cell_type": "markdown",
   "metadata": {},
   "source": [
    "## Gradient Boosting\n",
    "Need to import."
   ]
  },
  {
   "cell_type": "code",
   "execution_count": 48,
   "metadata": {},
   "outputs": [],
   "source": [
    "from sklearn.ensemble import GradientBoostingClassifier"
   ]
  },
  {
   "cell_type": "code",
   "execution_count": 49,
   "metadata": {},
   "outputs": [
    {
     "data": {
      "text/plain": [
       "GradientBoostingClassifier()"
      ]
     },
     "execution_count": 49,
     "metadata": {},
     "output_type": "execute_result"
    }
   ],
   "source": [
    "# Create it\n",
    "gbc = GradientBoostingClassifier()\n",
    "# fit it\n",
    "gbc.fit(X_train,y_train)"
   ]
  },
  {
   "cell_type": "code",
   "execution_count": 50,
   "metadata": {},
   "outputs": [
    {
     "data": {
      "text/html": [
       "<div>\n",
       "<style scoped>\n",
       "    .dataframe tbody tr th:only-of-type {\n",
       "        vertical-align: middle;\n",
       "    }\n",
       "\n",
       "    .dataframe tbody tr th {\n",
       "        vertical-align: top;\n",
       "    }\n",
       "\n",
       "    .dataframe thead th {\n",
       "        text-align: right;\n",
       "    }\n",
       "</style>\n",
       "<table border=\"1\" class=\"dataframe\">\n",
       "  <thead>\n",
       "    <tr style=\"text-align: right;\">\n",
       "      <th></th>\n",
       "      <th>GradientBoost</th>\n",
       "    </tr>\n",
       "  </thead>\n",
       "  <tbody>\n",
       "    <tr>\n",
       "      <th>a_score</th>\n",
       "      <td>0.967333</td>\n",
       "    </tr>\n",
       "    <tr>\n",
       "      <th>accDefaulters</th>\n",
       "      <td>0.360000</td>\n",
       "    </tr>\n",
       "    <tr>\n",
       "      <th>accNondefaulters</th>\n",
       "      <td>0.988276</td>\n",
       "    </tr>\n",
       "    <tr>\n",
       "      <th>avg_p_score</th>\n",
       "      <td>0.395060</td>\n",
       "    </tr>\n",
       "    <tr>\n",
       "      <th>errorDefaulters</th>\n",
       "      <td>0.640000</td>\n",
       "    </tr>\n",
       "    <tr>\n",
       "      <th>errorNondefaulters</th>\n",
       "      <td>0.011724</td>\n",
       "    </tr>\n",
       "    <tr>\n",
       "      <th>f1_score</th>\n",
       "      <td>0.423529</td>\n",
       "    </tr>\n",
       "    <tr>\n",
       "      <th>p_score</th>\n",
       "      <td>0.514286</td>\n",
       "    </tr>\n",
       "    <tr>\n",
       "      <th>r_score</th>\n",
       "      <td>0.360000</td>\n",
       "    </tr>\n",
       "    <tr>\n",
       "      <th>roc_auc_score</th>\n",
       "      <td>0.946391</td>\n",
       "    </tr>\n",
       "  </tbody>\n",
       "</table>\n",
       "</div>"
      ],
      "text/plain": [
       "                    GradientBoost\n",
       "a_score                  0.967333\n",
       "accDefaulters            0.360000\n",
       "accNondefaulters         0.988276\n",
       "avg_p_score              0.395060\n",
       "errorDefaulters          0.640000\n",
       "errorNondefaulters       0.011724\n",
       "f1_score                 0.423529\n",
       "p_score                  0.514286\n",
       "r_score                  0.360000\n",
       "roc_auc_score            0.946391"
      ]
     },
     "execution_count": 50,
     "metadata": {},
     "output_type": "execute_result"
    }
   ],
   "source": [
    "# Call our function to get metrics - let's also put it in DataFrame\n",
    "dfGbc = pd.DataFrame(modelMetrics(gbc, \"GradientBoost\",X_test, y_test))\n",
    "dfGbc"
   ]
  },
  {
   "cell_type": "markdown",
   "metadata": {},
   "source": [
    "## XGBoost\n",
    "Need to import."
   ]
  },
  {
   "cell_type": "code",
   "execution_count": 51,
   "metadata": {},
   "outputs": [],
   "source": [
    "import xgboost as xgb"
   ]
  },
  {
   "cell_type": "code",
   "execution_count": 55,
   "metadata": {},
   "outputs": [
    {
     "name": "stdout",
     "output_type": "stream",
     "text": [
      "[14:44:26] WARNING: /opt/concourse/worker/volumes/live/7a2b9f41-3287-451b-6691-43e9a6c0910f/volume/xgboost-split_1619728204606/work/src/learner.cc:1061: Starting in XGBoost 1.3.0, the default evaluation metric used with the objective 'binary:logistic' was changed from 'error' to 'logloss'. Explicitly set eval_metric if you'd like to restore the old behavior.\n"
     ]
    },
    {
     "name": "stderr",
     "output_type": "stream",
     "text": [
      "/Users/leckan/opt/anaconda3/lib/python3.8/site-packages/xgboost/sklearn.py:888: UserWarning: The use of label encoder in XGBClassifier is deprecated and will be removed in a future release. To remove this warning, do the following: 1) Pass option use_label_encoder=False when constructing XGBClassifier object; and 2) Encode your labels (y) as integers starting with 0, i.e. 0, 1, 2, ..., [num_class - 1].\n",
      "  warnings.warn(label_encoder_deprecation_msg, UserWarning)\n"
     ]
    },
    {
     "data": {
      "text/plain": [
       "XGBClassifier(base_score=0.5, booster='gbtree', colsample_bylevel=1,\n",
       "              colsample_bynode=1, colsample_bytree=1, gamma=0, gpu_id=-1,\n",
       "              importance_type='gain', interaction_constraints='',\n",
       "              learning_rate=0.300000012, max_delta_step=0, max_depth=6,\n",
       "              min_child_weight=1, missing=nan, monotone_constraints='()',\n",
       "              n_estimators=100, n_jobs=8, num_parallel_tree=1, random_state=0,\n",
       "              reg_alpha=0, reg_lambda=1, scale_pos_weight=1, subsample=1,\n",
       "              tree_method='exact', validate_parameters=1, verbosity=None)"
      ]
     },
     "execution_count": 55,
     "metadata": {},
     "output_type": "execute_result"
    }
   ],
   "source": [
    "# Create it\n",
    "xgbClf = xgb.XGBClassifier()\n",
    "# fit it\n",
    "xgbClf.fit(X_train, y_train)"
   ]
  },
  {
   "cell_type": "code",
   "execution_count": 56,
   "metadata": {},
   "outputs": [
    {
     "data": {
      "text/html": [
       "<div>\n",
       "<style scoped>\n",
       "    .dataframe tbody tr th:only-of-type {\n",
       "        vertical-align: middle;\n",
       "    }\n",
       "\n",
       "    .dataframe tbody tr th {\n",
       "        vertical-align: top;\n",
       "    }\n",
       "\n",
       "    .dataframe thead th {\n",
       "        text-align: right;\n",
       "    }\n",
       "</style>\n",
       "<table border=\"1\" class=\"dataframe\">\n",
       "  <thead>\n",
       "    <tr style=\"text-align: right;\">\n",
       "      <th></th>\n",
       "      <th>XGBoost</th>\n",
       "    </tr>\n",
       "  </thead>\n",
       "  <tbody>\n",
       "    <tr>\n",
       "      <th>a_score</th>\n",
       "      <td>0.968333</td>\n",
       "    </tr>\n",
       "    <tr>\n",
       "      <th>accDefaulters</th>\n",
       "      <td>0.340000</td>\n",
       "    </tr>\n",
       "    <tr>\n",
       "      <th>accNondefaulters</th>\n",
       "      <td>0.990000</td>\n",
       "    </tr>\n",
       "    <tr>\n",
       "      <th>avg_p_score</th>\n",
       "      <td>0.437857</td>\n",
       "    </tr>\n",
       "    <tr>\n",
       "      <th>errorDefaulters</th>\n",
       "      <td>0.660000</td>\n",
       "    </tr>\n",
       "    <tr>\n",
       "      <th>errorNondefaulters</th>\n",
       "      <td>0.010000</td>\n",
       "    </tr>\n",
       "    <tr>\n",
       "      <th>f1_score</th>\n",
       "      <td>0.417178</td>\n",
       "    </tr>\n",
       "    <tr>\n",
       "      <th>p_score</th>\n",
       "      <td>0.539683</td>\n",
       "    </tr>\n",
       "    <tr>\n",
       "      <th>r_score</th>\n",
       "      <td>0.340000</td>\n",
       "    </tr>\n",
       "    <tr>\n",
       "      <th>roc_auc_score</th>\n",
       "      <td>0.943986</td>\n",
       "    </tr>\n",
       "  </tbody>\n",
       "</table>\n",
       "</div>"
      ],
      "text/plain": [
       "                     XGBoost\n",
       "a_score             0.968333\n",
       "accDefaulters       0.340000\n",
       "accNondefaulters    0.990000\n",
       "avg_p_score         0.437857\n",
       "errorDefaulters     0.660000\n",
       "errorNondefaulters  0.010000\n",
       "f1_score            0.417178\n",
       "p_score             0.539683\n",
       "r_score             0.340000\n",
       "roc_auc_score       0.943986"
      ]
     },
     "execution_count": 56,
     "metadata": {},
     "output_type": "execute_result"
    }
   ],
   "source": [
    "# Call our function to get metrics - let's also put it in DataFrame\n",
    "dfXGB = pd.DataFrame(modelMetrics(xgbClf, \"XGBoost\",X_test, y_test))\n",
    "dfXGB"
   ]
  },
  {
   "cell_type": "markdown",
   "metadata": {},
   "source": [
    "## Look at All Metrics"
   ]
  },
  {
   "cell_type": "code",
   "execution_count": 61,
   "metadata": {},
   "outputs": [],
   "source": [
    "# Make a list called allDfs that contains all the DataFrames\n",
    "# we created that contain the model metrics\n",
    "allDfs = [dfLogReg, dfLDA, dfQDA, dfKNN, dfDTS, dfDTUS, dfDT6, dfBag, dfRf, dfXTC, dfAda, dfGbc, dfXGB]"
   ]
  },
  {
   "cell_type": "code",
   "execution_count": 63,
   "metadata": {},
   "outputs": [
    {
     "data": {
      "text/html": [
       "<div>\n",
       "<style scoped>\n",
       "    .dataframe tbody tr th:only-of-type {\n",
       "        vertical-align: middle;\n",
       "    }\n",
       "\n",
       "    .dataframe tbody tr th {\n",
       "        vertical-align: top;\n",
       "    }\n",
       "\n",
       "    .dataframe thead th {\n",
       "        text-align: right;\n",
       "    }\n",
       "</style>\n",
       "<table border=\"1\" class=\"dataframe\">\n",
       "  <thead>\n",
       "    <tr style=\"text-align: right;\">\n",
       "      <th></th>\n",
       "      <th>LogisticRegression</th>\n",
       "      <th>LDA</th>\n",
       "      <th>QuadraticDiscriminantAnalysis</th>\n",
       "      <th>KNN</th>\n",
       "      <th>DecisionTreeClassifier</th>\n",
       "      <th>DT-Unscaled</th>\n",
       "      <th>DT-Depth_6</th>\n",
       "      <th>Bagging</th>\n",
       "      <th>RandomForest</th>\n",
       "      <th>Extra Trees</th>\n",
       "      <th>ADA</th>\n",
       "      <th>GradientBoost</th>\n",
       "      <th>XGBoost</th>\n",
       "    </tr>\n",
       "  </thead>\n",
       "  <tbody>\n",
       "    <tr>\n",
       "      <th>a_score</th>\n",
       "      <td>0.972333</td>\n",
       "      <td>0.971333</td>\n",
       "      <td>0.972667</td>\n",
       "      <td>0.970667</td>\n",
       "      <td>0.954667</td>\n",
       "      <td>0.954667</td>\n",
       "      <td>0.968000</td>\n",
       "      <td>0.956667</td>\n",
       "      <td>0.954000</td>\n",
       "      <td>0.954667</td>\n",
       "      <td>0.970333</td>\n",
       "      <td>0.967333</td>\n",
       "      <td>0.968333</td>\n",
       "    </tr>\n",
       "    <tr>\n",
       "      <th>accDefaulters</th>\n",
       "      <td>0.330000</td>\n",
       "      <td>0.250000</td>\n",
       "      <td>0.300000</td>\n",
       "      <td>0.380000</td>\n",
       "      <td>0.350000</td>\n",
       "      <td>0.350000</td>\n",
       "      <td>0.310000</td>\n",
       "      <td>0.330000</td>\n",
       "      <td>0.360000</td>\n",
       "      <td>0.380000</td>\n",
       "      <td>0.400000</td>\n",
       "      <td>0.360000</td>\n",
       "      <td>0.340000</td>\n",
       "    </tr>\n",
       "    <tr>\n",
       "      <th>accNondefaulters</th>\n",
       "      <td>0.994483</td>\n",
       "      <td>0.996207</td>\n",
       "      <td>0.995862</td>\n",
       "      <td>0.991034</td>\n",
       "      <td>0.975517</td>\n",
       "      <td>0.975517</td>\n",
       "      <td>0.990690</td>\n",
       "      <td>0.978276</td>\n",
       "      <td>0.974483</td>\n",
       "      <td>0.974483</td>\n",
       "      <td>0.990000</td>\n",
       "      <td>0.988276</td>\n",
       "      <td>0.990000</td>\n",
       "    </tr>\n",
       "    <tr>\n",
       "      <th>avg_p_score</th>\n",
       "      <td>0.503314</td>\n",
       "      <td>0.502443</td>\n",
       "      <td>0.496253</td>\n",
       "      <td>0.361938</td>\n",
       "      <td>0.137233</td>\n",
       "      <td>0.137233</td>\n",
       "      <td>0.381994</td>\n",
       "      <td>0.284543</td>\n",
       "      <td>0.317787</td>\n",
       "      <td>0.239061</td>\n",
       "      <td>0.438557</td>\n",
       "      <td>0.395060</td>\n",
       "      <td>0.437857</td>\n",
       "    </tr>\n",
       "    <tr>\n",
       "      <th>errorDefaulters</th>\n",
       "      <td>0.670000</td>\n",
       "      <td>0.750000</td>\n",
       "      <td>0.700000</td>\n",
       "      <td>0.620000</td>\n",
       "      <td>0.650000</td>\n",
       "      <td>0.650000</td>\n",
       "      <td>0.690000</td>\n",
       "      <td>0.670000</td>\n",
       "      <td>0.640000</td>\n",
       "      <td>0.620000</td>\n",
       "      <td>0.600000</td>\n",
       "      <td>0.640000</td>\n",
       "      <td>0.660000</td>\n",
       "    </tr>\n",
       "    <tr>\n",
       "      <th>errorNondefaulters</th>\n",
       "      <td>0.005517</td>\n",
       "      <td>0.003793</td>\n",
       "      <td>0.004138</td>\n",
       "      <td>0.008966</td>\n",
       "      <td>0.024483</td>\n",
       "      <td>0.024483</td>\n",
       "      <td>0.009310</td>\n",
       "      <td>0.021724</td>\n",
       "      <td>0.025517</td>\n",
       "      <td>0.025517</td>\n",
       "      <td>0.010000</td>\n",
       "      <td>0.011724</td>\n",
       "      <td>0.010000</td>\n",
       "    </tr>\n",
       "    <tr>\n",
       "      <th>f1_score</th>\n",
       "      <td>0.442953</td>\n",
       "      <td>0.367647</td>\n",
       "      <td>0.422535</td>\n",
       "      <td>0.463415</td>\n",
       "      <td>0.339806</td>\n",
       "      <td>0.339806</td>\n",
       "      <td>0.392405</td>\n",
       "      <td>0.336735</td>\n",
       "      <td>0.342857</td>\n",
       "      <td>0.358491</td>\n",
       "      <td>0.473373</td>\n",
       "      <td>0.423529</td>\n",
       "      <td>0.417178</td>\n",
       "    </tr>\n",
       "    <tr>\n",
       "      <th>p_score</th>\n",
       "      <td>0.673469</td>\n",
       "      <td>0.694444</td>\n",
       "      <td>0.714286</td>\n",
       "      <td>0.593750</td>\n",
       "      <td>0.330189</td>\n",
       "      <td>0.330189</td>\n",
       "      <td>0.534483</td>\n",
       "      <td>0.343750</td>\n",
       "      <td>0.327273</td>\n",
       "      <td>0.339286</td>\n",
       "      <td>0.579710</td>\n",
       "      <td>0.514286</td>\n",
       "      <td>0.539683</td>\n",
       "    </tr>\n",
       "    <tr>\n",
       "      <th>r_score</th>\n",
       "      <td>0.330000</td>\n",
       "      <td>0.250000</td>\n",
       "      <td>0.300000</td>\n",
       "      <td>0.380000</td>\n",
       "      <td>0.350000</td>\n",
       "      <td>0.350000</td>\n",
       "      <td>0.310000</td>\n",
       "      <td>0.330000</td>\n",
       "      <td>0.360000</td>\n",
       "      <td>0.380000</td>\n",
       "      <td>0.400000</td>\n",
       "      <td>0.360000</td>\n",
       "      <td>0.340000</td>\n",
       "    </tr>\n",
       "    <tr>\n",
       "      <th>roc_auc_score</th>\n",
       "      <td>0.951041</td>\n",
       "      <td>0.950731</td>\n",
       "      <td>0.950645</td>\n",
       "      <td>0.858034</td>\n",
       "      <td>0.662759</td>\n",
       "      <td>0.662759</td>\n",
       "      <td>0.876579</td>\n",
       "      <td>0.789898</td>\n",
       "      <td>0.820909</td>\n",
       "      <td>0.747143</td>\n",
       "      <td>0.951383</td>\n",
       "      <td>0.946391</td>\n",
       "      <td>0.943986</td>\n",
       "    </tr>\n",
       "  </tbody>\n",
       "</table>\n",
       "</div>"
      ],
      "text/plain": [
       "                    LogisticRegression       LDA  \\\n",
       "a_score                       0.972333  0.971333   \n",
       "accDefaulters                 0.330000  0.250000   \n",
       "accNondefaulters              0.994483  0.996207   \n",
       "avg_p_score                   0.503314  0.502443   \n",
       "errorDefaulters               0.670000  0.750000   \n",
       "errorNondefaulters            0.005517  0.003793   \n",
       "f1_score                      0.442953  0.367647   \n",
       "p_score                       0.673469  0.694444   \n",
       "r_score                       0.330000  0.250000   \n",
       "roc_auc_score                 0.951041  0.950731   \n",
       "\n",
       "                    QuadraticDiscriminantAnalysis       KNN  \\\n",
       "a_score                                  0.972667  0.970667   \n",
       "accDefaulters                            0.300000  0.380000   \n",
       "accNondefaulters                         0.995862  0.991034   \n",
       "avg_p_score                              0.496253  0.361938   \n",
       "errorDefaulters                          0.700000  0.620000   \n",
       "errorNondefaulters                       0.004138  0.008966   \n",
       "f1_score                                 0.422535  0.463415   \n",
       "p_score                                  0.714286  0.593750   \n",
       "r_score                                  0.300000  0.380000   \n",
       "roc_auc_score                            0.950645  0.858034   \n",
       "\n",
       "                    DecisionTreeClassifier  DT-Unscaled  DT-Depth_6   Bagging  \\\n",
       "a_score                           0.954667     0.954667    0.968000  0.956667   \n",
       "accDefaulters                     0.350000     0.350000    0.310000  0.330000   \n",
       "accNondefaulters                  0.975517     0.975517    0.990690  0.978276   \n",
       "avg_p_score                       0.137233     0.137233    0.381994  0.284543   \n",
       "errorDefaulters                   0.650000     0.650000    0.690000  0.670000   \n",
       "errorNondefaulters                0.024483     0.024483    0.009310  0.021724   \n",
       "f1_score                          0.339806     0.339806    0.392405  0.336735   \n",
       "p_score                           0.330189     0.330189    0.534483  0.343750   \n",
       "r_score                           0.350000     0.350000    0.310000  0.330000   \n",
       "roc_auc_score                     0.662759     0.662759    0.876579  0.789898   \n",
       "\n",
       "                    RandomForest  Extra Trees       ADA  GradientBoost  \\\n",
       "a_score                 0.954000     0.954667  0.970333       0.967333   \n",
       "accDefaulters           0.360000     0.380000  0.400000       0.360000   \n",
       "accNondefaulters        0.974483     0.974483  0.990000       0.988276   \n",
       "avg_p_score             0.317787     0.239061  0.438557       0.395060   \n",
       "errorDefaulters         0.640000     0.620000  0.600000       0.640000   \n",
       "errorNondefaulters      0.025517     0.025517  0.010000       0.011724   \n",
       "f1_score                0.342857     0.358491  0.473373       0.423529   \n",
       "p_score                 0.327273     0.339286  0.579710       0.514286   \n",
       "r_score                 0.360000     0.380000  0.400000       0.360000   \n",
       "roc_auc_score           0.820909     0.747143  0.951383       0.946391   \n",
       "\n",
       "                     XGBoost  \n",
       "a_score             0.968333  \n",
       "accDefaulters       0.340000  \n",
       "accNondefaulters    0.990000  \n",
       "avg_p_score         0.437857  \n",
       "errorDefaulters     0.660000  \n",
       "errorNondefaulters  0.010000  \n",
       "f1_score            0.417178  \n",
       "p_score             0.539683  \n",
       "r_score             0.340000  \n",
       "roc_auc_score       0.943986  "
      ]
     },
     "execution_count": 63,
     "metadata": {},
     "output_type": "execute_result"
    }
   ],
   "source": [
    "# Concatenate all the DataFrames\n",
    "pd.concat(allDfs, axis=1)"
   ]
  },
  {
   "cell_type": "code",
   "execution_count": null,
   "metadata": {},
   "outputs": [],
   "source": []
  },
  {
   "cell_type": "code",
   "execution_count": null,
   "metadata": {},
   "outputs": [],
   "source": []
  },
  {
   "cell_type": "code",
   "execution_count": null,
   "metadata": {},
   "outputs": [],
   "source": []
  },
  {
   "cell_type": "code",
   "execution_count": 77,
   "metadata": {},
   "outputs": [],
   "source": [
    "from sklearn.model_selection import GridSearchCV\n",
    "from sklearn.tree import export_graphviz, export_text, plot_tree"
   ]
  },
  {
   "cell_type": "code",
   "execution_count": 65,
   "metadata": {},
   "outputs": [],
   "source": [
    "baseDT = DecisionTreeClassifier()"
   ]
  },
  {
   "cell_type": "code",
   "execution_count": 68,
   "metadata": {},
   "outputs": [
    {
     "data": {
      "text/plain": [
       "array([0.001, 0.002, 0.003, 0.004, 0.005, 0.006, 0.007, 0.008, 0.009,\n",
       "       0.01 , 0.011, 0.012, 0.013, 0.014, 0.015, 0.016, 0.017, 0.018,\n",
       "       0.019, 0.02 , 0.021, 0.022, 0.023, 0.024, 0.025, 0.026, 0.027,\n",
       "       0.028, 0.029, 0.03 , 0.031, 0.032, 0.033, 0.034, 0.035, 0.036,\n",
       "       0.037, 0.038, 0.039, 0.04 , 0.041, 0.042, 0.043, 0.044, 0.045,\n",
       "       0.046, 0.047, 0.048, 0.049, 0.05 , 0.051, 0.052, 0.053, 0.054,\n",
       "       0.055, 0.056, 0.057, 0.058, 0.059, 0.06 , 0.061, 0.062, 0.063,\n",
       "       0.064, 0.065, 0.066, 0.067, 0.068, 0.069, 0.07 , 0.071, 0.072,\n",
       "       0.073, 0.074, 0.075, 0.076, 0.077, 0.078, 0.079, 0.08 , 0.081,\n",
       "       0.082, 0.083, 0.084, 0.085, 0.086, 0.087, 0.088, 0.089, 0.09 ,\n",
       "       0.091, 0.092, 0.093, 0.094, 0.095, 0.096, 0.097, 0.098, 0.099])"
      ]
     },
     "execution_count": 68,
     "metadata": {},
     "output_type": "execute_result"
    }
   ],
   "source": [
    "ccps= np.arange(0.001,0.1,0.001)\n",
    "ccps"
   ]
  },
  {
   "cell_type": "code",
   "execution_count": 69,
   "metadata": {},
   "outputs": [],
   "source": [
    "clf = GridSearchCV(baseDT, {'ccp_alpha':ccps}, scoring =\"recall\", verbose=1)"
   ]
  },
  {
   "cell_type": "code",
   "execution_count": 70,
   "metadata": {},
   "outputs": [
    {
     "name": "stdout",
     "output_type": "stream",
     "text": [
      "Fitting 5 folds for each of 99 candidates, totalling 495 fits\n"
     ]
    },
    {
     "data": {
      "text/plain": [
       "GridSearchCV(estimator=DecisionTreeClassifier(),\n",
       "             param_grid={'ccp_alpha': array([0.001, 0.002, 0.003, 0.004, 0.005, 0.006, 0.007, 0.008, 0.009,\n",
       "       0.01 , 0.011, 0.012, 0.013, 0.014, 0.015, 0.016, 0.017, 0.018,\n",
       "       0.019, 0.02 , 0.021, 0.022, 0.023, 0.024, 0.025, 0.026, 0.027,\n",
       "       0.028, 0.029, 0.03 , 0.031, 0.032, 0.033, 0.034, 0.035, 0.036,\n",
       "       0.037, 0.038, 0.039, 0.04 , 0.041, 0.042, 0.043, 0.044, 0.045,\n",
       "       0.046, 0.047, 0.048, 0.049, 0.05 , 0.051, 0.052, 0.053, 0.054,\n",
       "       0.055, 0.056, 0.057, 0.058, 0.059, 0.06 , 0.061, 0.062, 0.063,\n",
       "       0.064, 0.065, 0.066, 0.067, 0.068, 0.069, 0.07 , 0.071, 0.072,\n",
       "       0.073, 0.074, 0.075, 0.076, 0.077, 0.078, 0.079, 0.08 , 0.081,\n",
       "       0.082, 0.083, 0.084, 0.085, 0.086, 0.087, 0.088, 0.089, 0.09 ,\n",
       "       0.091, 0.092, 0.093, 0.094, 0.095, 0.096, 0.097, 0.098, 0.099])},\n",
       "             scoring='recall', verbose=1)"
      ]
     },
     "execution_count": 70,
     "metadata": {},
     "output_type": "execute_result"
    }
   ],
   "source": [
    "clf.fit(X_train, y_train)"
   ]
  },
  {
   "cell_type": "code",
   "execution_count": 71,
   "metadata": {},
   "outputs": [
    {
     "data": {
      "text/plain": [
       "0.49380203515263643"
      ]
     },
     "execution_count": 71,
     "metadata": {},
     "output_type": "execute_result"
    }
   ],
   "source": [
    "clf.best_score_"
   ]
  },
  {
   "cell_type": "code",
   "execution_count": 72,
   "metadata": {},
   "outputs": [
    {
     "data": {
      "text/plain": [
       "{'ccp_alpha': 0.003}"
      ]
     },
     "execution_count": 72,
     "metadata": {},
     "output_type": "execute_result"
    }
   ],
   "source": [
    "clf.best_params_"
   ]
  },
  {
   "cell_type": "code",
   "execution_count": 74,
   "metadata": {},
   "outputs": [
    {
     "data": {
      "text/plain": [
       "DecisionTreeClassifier(ccp_alpha=0.003, random_state=42)"
      ]
     },
     "execution_count": 74,
     "metadata": {},
     "output_type": "execute_result"
    }
   ],
   "source": [
    "bestDt = DecisionTreeClassifier(ccp_alpha = clf.best_params_[\"ccp_alpha\"],random_state=42)\n",
    "bestDt.fit(X_train, y_train)"
   ]
  },
  {
   "cell_type": "code",
   "execution_count": 80,
   "metadata": {},
   "outputs": [
    {
     "name": "stdout",
     "output_type": "stream",
     "text": [
      "              precision    recall  f1-score   support\n",
      "\n",
      "          No       0.98      0.98      0.98      2900\n",
      "         Yes       0.52      0.48      0.50       100\n",
      "\n",
      "    accuracy                           0.97      3000\n",
      "   macro avg       0.75      0.73      0.74      3000\n",
      "weighted avg       0.97      0.97      0.97      3000\n",
      "\n"
     ]
    }
   ],
   "source": [
    "print(classification_report(y_test, bestDt.predict(X_test), target_names=[\"No\",\"Yes\"]))"
   ]
  },
  {
   "cell_type": "code",
   "execution_count": 81,
   "metadata": {},
   "outputs": [
    {
     "data": {
      "text/plain": [
       "[Text(167.4, 163.07999999999998, 'balance <= 1800.002\\ngini = 0.064\\nsamples = 7000\\nvalue = [6767, 233]'),\n",
       " Text(83.7, 54.360000000000014, 'gini = 0.034\\nsamples = 6805\\nvalue = [6686, 119]'),\n",
       " Text(251.10000000000002, 54.360000000000014, 'gini = 0.486\\nsamples = 195\\nvalue = [81, 114]')]"
      ]
     },
     "execution_count": 81,
     "metadata": {},
     "output_type": "execute_result"
    },
    {
     "data": {
      "image/png": "[encoded data removed]",
      "text/plain": [
       "<Figure size 432x288 with 1 Axes>"
      ]
     },
     "metadata": {
      "needs_background": "light"
     },
     "output_type": "display_data"
    }
   ],
   "source": [
    "plot_tree(bestDt, feature_names=X.columns, filled=True)"
   ]
  },
  {
   "cell_type": "code",
   "execution_count": null,
   "metadata": {},
   "outputs": [],
   "source": []
  }
 ],
 "metadata": {
  "kernelspec": {
   "display_name": "Python 3",
   "language": "python",
   "name": "python3"
  },
  "language_info": {
   "codemirror_mode": {
    "name": "ipython",
    "version": 3
   },
   "file_extension": ".py",
   "mimetype": "text/x-python",
   "name": "python",
   "nbconvert_exporter": "python",
   "pygments_lexer": "ipython3",
   "version": "3.8.8"
  }
 },
 "nbformat": 4,
 "nbformat_minor": 4
}
